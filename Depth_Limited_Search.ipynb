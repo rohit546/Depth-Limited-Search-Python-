{
 "cells": [
  {
   "cell_type": "markdown",
   "id": "8556d648-83fd-42f3-98e6-c74b0ac5f782",
   "metadata": {},
   "source": [
    "# Depth Limited Search"
   ]
  },
  {
   "cell_type": "code",
   "execution_count": null,
   "id": "93284ec6-70f9-4a49-bb10-15c11d111673",
   "metadata": {},
   "outputs": [],
   "source": [
    "import time\n",
    "\n",
    "def dls(graph, start, goal, depth_limit, visited, space):\n",
    "    visited_nodes = 1\n",
    "    stack = [(start, [start])]\n",
    "    while stack:\n",
    "        visited_nodes += 1\n",
    "        (node, path) = stack.pop()\n",
    "        for next_node in graph[node]:\n",
    "            if next_node == goal:\n",
    "                return path + [next_node], visited_nodes, space\n",
    "            if depth_limit > 0:\n",
    "                space += 1\n",
    "                stack.append((next_node, path + [next_node]))\n",
    "    return None, visited_nodes, space\n",
    "\n",
    "def read_graph(file_name):\n",
    "    graph = {}\n",
    "    with open(file_name, 'r') as file:\n",
    "        for line in file:\n",
    "            line = line.strip()\n",
    "            node, neighbors = line.split(':')\n",
    "            if \" \" in neighbors:\n",
    "                neighbors = neighbors.split(\" \")\n",
    "            else:\n",
    "                neighbors = neighbors.split(\",\")\n",
    "            graph[node] = neighbors\n",
    "    return graph\n",
    "\n",
    "def main():\n",
    "    graph = read_graph('graph.txt')\n",
    "    start = 'html'\n",
    "    goal = 'text'\n",
    "    depth_limit = 10\n",
    "    visited = 0\n",
    "    space = 0\n",
    "    start_time = time.time()\n",
    "    path, visited_nodes, space = dls(graph, start, goal, depth_limit, visited, space)\n",
    "    end_time = time.time()\n",
    "    if path:\n",
    "        print(f\"Path found: {' -> '.join(path)}\")\n",
    "    else:\n",
    "        print(\"No path found.\")\n",
    "    print(f\"Time complexity: {visited_nodes - visited} nodes visited\")\n",
    "    print(f\"Space complexity: {space} stacks\")\n",
    "\n",
    "if __name__ == \"__main__\":\n",
    "    main()"
   ]
  }
 ],
 "metadata": {
  "kernelspec": {
   "display_name": "Python 3 (ipykernel)",
   "language": "python",
   "name": "python3"
  },
  "language_info": {
   "codemirror_mode": {
    "name": "ipython",
    "version": 3
   },
   "file_extension": ".py",
   "mimetype": "text/x-python",
   "name": "python",
   "nbconvert_exporter": "python",
   "pygments_lexer": "ipython3",
   "version": "3.11.7"
  }
 },
 "nbformat": 4,
 "nbformat_minor": 5
}
